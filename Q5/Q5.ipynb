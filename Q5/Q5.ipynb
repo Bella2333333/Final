{
 "cells": [
  {
   "attachments": {},
   "cell_type": "markdown",
   "metadata": {},
   "source": [
    "# 决策树实现用户购买预测\n",
    "22210980051 李韵"
   ]
  },
  {
   "cell_type": "code",
   "execution_count": 40,
   "metadata": {},
   "outputs": [],
   "source": [
    "import pandas as pd\n",
    "from sklearn import tree\n",
    "from sklearn import preprocessing\n",
    "from sklearn.feature_extraction import DictVectorizer\n",
    "import matplotlib.pyplot as plt"
   ]
  },
  {
   "attachments": {},
   "cell_type": "markdown",
   "metadata": {},
   "source": [
    "## 1. 数据处理"
   ]
  },
  {
   "cell_type": "code",
   "execution_count": 14,
   "metadata": {},
   "outputs": [
    {
     "data": {
      "text/html": [
       "<div>\n",
       "<style scoped>\n",
       "    .dataframe tbody tr th:only-of-type {\n",
       "        vertical-align: middle;\n",
       "    }\n",
       "\n",
       "    .dataframe tbody tr th {\n",
       "        vertical-align: top;\n",
       "    }\n",
       "\n",
       "    .dataframe thead th {\n",
       "        text-align: right;\n",
       "    }\n",
       "</style>\n",
       "<table border=\"1\" class=\"dataframe\">\n",
       "  <thead>\n",
       "    <tr style=\"text-align: right;\">\n",
       "      <th></th>\n",
       "      <th>User id</th>\n",
       "      <th>Age</th>\n",
       "      <th>Incoming</th>\n",
       "      <th>Student</th>\n",
       "      <th>Credit Rating</th>\n",
       "      <th>Buying</th>\n",
       "    </tr>\n",
       "  </thead>\n",
       "  <tbody>\n",
       "    <tr>\n",
       "      <th>0</th>\n",
       "      <td>1</td>\n",
       "      <td>&lt;=30</td>\n",
       "      <td>high</td>\n",
       "      <td>no</td>\n",
       "      <td>fair</td>\n",
       "      <td>no</td>\n",
       "    </tr>\n",
       "    <tr>\n",
       "      <th>1</th>\n",
       "      <td>2</td>\n",
       "      <td>&lt;=30</td>\n",
       "      <td>high</td>\n",
       "      <td>no</td>\n",
       "      <td>excellent</td>\n",
       "      <td>no</td>\n",
       "    </tr>\n",
       "    <tr>\n",
       "      <th>2</th>\n",
       "      <td>3</td>\n",
       "      <td>[31,40]</td>\n",
       "      <td>high</td>\n",
       "      <td>no</td>\n",
       "      <td>fair</td>\n",
       "      <td>yes</td>\n",
       "    </tr>\n",
       "    <tr>\n",
       "      <th>3</th>\n",
       "      <td>4</td>\n",
       "      <td>&gt;40</td>\n",
       "      <td>medium</td>\n",
       "      <td>no</td>\n",
       "      <td>fair</td>\n",
       "      <td>yes</td>\n",
       "    </tr>\n",
       "    <tr>\n",
       "      <th>4</th>\n",
       "      <td>5</td>\n",
       "      <td>&gt;40</td>\n",
       "      <td>low</td>\n",
       "      <td>yes</td>\n",
       "      <td>fair</td>\n",
       "      <td>yes</td>\n",
       "    </tr>\n",
       "    <tr>\n",
       "      <th>5</th>\n",
       "      <td>6</td>\n",
       "      <td>&gt;40</td>\n",
       "      <td>low</td>\n",
       "      <td>yes</td>\n",
       "      <td>excellent</td>\n",
       "      <td>no</td>\n",
       "    </tr>\n",
       "    <tr>\n",
       "      <th>6</th>\n",
       "      <td>7</td>\n",
       "      <td>[31,40]</td>\n",
       "      <td>low</td>\n",
       "      <td>yes</td>\n",
       "      <td>excellent</td>\n",
       "      <td>yes</td>\n",
       "    </tr>\n",
       "    <tr>\n",
       "      <th>7</th>\n",
       "      <td>8</td>\n",
       "      <td>&lt;=30</td>\n",
       "      <td>medium</td>\n",
       "      <td>no</td>\n",
       "      <td>fair</td>\n",
       "      <td>no</td>\n",
       "    </tr>\n",
       "    <tr>\n",
       "      <th>8</th>\n",
       "      <td>9</td>\n",
       "      <td>&lt;=30</td>\n",
       "      <td>low</td>\n",
       "      <td>yes</td>\n",
       "      <td>fair</td>\n",
       "      <td>yes</td>\n",
       "    </tr>\n",
       "    <tr>\n",
       "      <th>9</th>\n",
       "      <td>10</td>\n",
       "      <td>&gt;40</td>\n",
       "      <td>medium</td>\n",
       "      <td>yes</td>\n",
       "      <td>fair</td>\n",
       "      <td>yes</td>\n",
       "    </tr>\n",
       "    <tr>\n",
       "      <th>10</th>\n",
       "      <td>11</td>\n",
       "      <td>&lt;=30</td>\n",
       "      <td>medium</td>\n",
       "      <td>yes</td>\n",
       "      <td>excellent</td>\n",
       "      <td>yes</td>\n",
       "    </tr>\n",
       "    <tr>\n",
       "      <th>11</th>\n",
       "      <td>12</td>\n",
       "      <td>[31,40]</td>\n",
       "      <td>medium</td>\n",
       "      <td>no</td>\n",
       "      <td>excellent</td>\n",
       "      <td>yes</td>\n",
       "    </tr>\n",
       "    <tr>\n",
       "      <th>12</th>\n",
       "      <td>13</td>\n",
       "      <td>[31,40]</td>\n",
       "      <td>high</td>\n",
       "      <td>yes</td>\n",
       "      <td>fair</td>\n",
       "      <td>yes</td>\n",
       "    </tr>\n",
       "  </tbody>\n",
       "</table>\n",
       "</div>"
      ],
      "text/plain": [
       "    User id      Age Incoming Student Credit Rating Buying\n",
       "0         1     <=30     high      no          fair     no\n",
       "1         2     <=30     high      no     excellent     no\n",
       "2         3  [31,40]     high      no          fair    yes\n",
       "3         4      >40   medium      no          fair    yes\n",
       "4         5      >40      low     yes          fair    yes\n",
       "5         6      >40      low     yes     excellent     no\n",
       "6         7  [31,40]      low     yes     excellent    yes\n",
       "7         8     <=30   medium      no          fair     no\n",
       "8         9     <=30      low     yes          fair    yes\n",
       "9        10      >40   medium     yes          fair    yes\n",
       "10       11     <=30   medium     yes     excellent    yes\n",
       "11       12  [31,40]   medium      no     excellent    yes\n",
       "12       13  [31,40]     high     yes          fair    yes"
      ]
     },
     "execution_count": 14,
     "metadata": {},
     "output_type": "execute_result"
    }
   ],
   "source": [
    "dataset = [\n",
    "    [1, '<=30', 'high', 'no', 'fair', 'no'],\n",
    "    [2, '<=30', 'high', 'no', 'excellent', 'no'],\n",
    "    [3, '[31,40]', 'high', 'no', 'fair', 'yes'],\n",
    "    [4, '>40', 'medium', 'no', 'fair', 'yes'],\n",
    "    [5, '>40', 'low', 'yes', 'fair', 'yes'],\n",
    "    [6, '>40', 'low', 'yes', 'excellent', 'no'],\n",
    "    [7, '[31,40]', 'low', 'yes', 'excellent', 'yes'],\n",
    "    [8, '<=30', 'medium', 'no', 'fair', 'no'],\n",
    "    [9, '<=30', 'low', 'yes', 'fair', 'yes'],\n",
    "    [10, '>40', 'medium', 'yes', 'fair', 'yes'],\n",
    "    [11, '<=30', 'medium', 'yes', 'excellent', 'yes'],\n",
    "    [12, '[31,40]', 'medium', 'no', 'excellent', 'yes'],\n",
    "    [13, '[31,40]', 'high', 'yes', 'fair', 'yes'],\n",
    "]\n",
    "columns = ['User id', 'Age', 'Incoming', 'Student', 'Credit Rating', 'Buying']\n",
    "df = pd.DataFrame(dataset, columns=columns)\n",
    "df"
   ]
  },
  {
   "cell_type": "code",
   "execution_count": 15,
   "metadata": {},
   "outputs": [
    {
     "data": {
      "text/plain": [
       "0      no\n",
       "1      no\n",
       "2     yes\n",
       "3     yes\n",
       "4     yes\n",
       "5      no\n",
       "6     yes\n",
       "7      no\n",
       "8     yes\n",
       "9     yes\n",
       "10    yes\n",
       "11    yes\n",
       "12    yes\n",
       "Name: Buying, dtype: object"
      ]
     },
     "execution_count": 15,
     "metadata": {},
     "output_type": "execute_result"
    }
   ],
   "source": [
    "labels = df.iloc[:,-1]\n",
    "labels"
   ]
  },
  {
   "cell_type": "code",
   "execution_count": 16,
   "metadata": {},
   "outputs": [
    {
     "data": {
      "text/plain": [
       "[{'Age': '<=30', 'Incoming': 'high', 'Student': 'no', 'Credit Rating': 'fair'},\n",
       " {'Age': '<=30',\n",
       "  'Incoming': 'high',\n",
       "  'Student': 'no',\n",
       "  'Credit Rating': 'excellent'},\n",
       " {'Age': '[31,40]',\n",
       "  'Incoming': 'high',\n",
       "  'Student': 'no',\n",
       "  'Credit Rating': 'fair'},\n",
       " {'Age': '>40',\n",
       "  'Incoming': 'medium',\n",
       "  'Student': 'no',\n",
       "  'Credit Rating': 'fair'},\n",
       " {'Age': '>40', 'Incoming': 'low', 'Student': 'yes', 'Credit Rating': 'fair'},\n",
       " {'Age': '>40',\n",
       "  'Incoming': 'low',\n",
       "  'Student': 'yes',\n",
       "  'Credit Rating': 'excellent'},\n",
       " {'Age': '[31,40]',\n",
       "  'Incoming': 'low',\n",
       "  'Student': 'yes',\n",
       "  'Credit Rating': 'excellent'},\n",
       " {'Age': '<=30',\n",
       "  'Incoming': 'medium',\n",
       "  'Student': 'no',\n",
       "  'Credit Rating': 'fair'},\n",
       " {'Age': '<=30', 'Incoming': 'low', 'Student': 'yes', 'Credit Rating': 'fair'},\n",
       " {'Age': '>40',\n",
       "  'Incoming': 'medium',\n",
       "  'Student': 'yes',\n",
       "  'Credit Rating': 'fair'},\n",
       " {'Age': '<=30',\n",
       "  'Incoming': 'medium',\n",
       "  'Student': 'yes',\n",
       "  'Credit Rating': 'excellent'},\n",
       " {'Age': '[31,40]',\n",
       "  'Incoming': 'medium',\n",
       "  'Student': 'no',\n",
       "  'Credit Rating': 'excellent'},\n",
       " {'Age': '[31,40]',\n",
       "  'Incoming': 'high',\n",
       "  'Student': 'yes',\n",
       "  'Credit Rating': 'fair'}]"
      ]
     },
     "execution_count": 16,
     "metadata": {},
     "output_type": "execute_result"
    }
   ],
   "source": [
    "features = df.iloc[:,1:-1]\n",
    "features = features.to_dict('records')\n",
    "features"
   ]
  },
  {
   "cell_type": "code",
   "execution_count": 18,
   "metadata": {},
   "outputs": [
    {
     "name": "stdout",
     "output_type": "stream",
     "text": [
      "[[1. 0. 0. 0. 1. 1. 0. 0. 1. 0.]\n",
      " [1. 0. 0. 1. 0. 1. 0. 0. 1. 0.]\n",
      " [0. 0. 1. 0. 1. 1. 0. 0. 1. 0.]\n",
      " [0. 1. 0. 0. 1. 0. 0. 1. 1. 0.]\n",
      " [0. 1. 0. 0. 1. 0. 1. 0. 0. 1.]\n",
      " [0. 1. 0. 1. 0. 0. 1. 0. 0. 1.]\n",
      " [0. 0. 1. 1. 0. 0. 1. 0. 0. 1.]\n",
      " [1. 0. 0. 0. 1. 0. 0. 1. 1. 0.]\n",
      " [1. 0. 0. 0. 1. 0. 1. 0. 0. 1.]\n",
      " [0. 1. 0. 0. 1. 0. 0. 1. 0. 1.]\n",
      " [1. 0. 0. 1. 0. 0. 0. 1. 0. 1.]\n",
      " [0. 0. 1. 1. 0. 0. 0. 1. 1. 0.]\n",
      " [0. 0. 1. 0. 1. 1. 0. 0. 0. 1.]]\n",
      "['Age=<=30', 'Age=>40', 'Age=[31,40]', 'Credit Rating=excellent', 'Credit Rating=fair', 'Incoming=high', 'Incoming=low', 'Incoming=medium', 'Student=no', 'Student=yes']\n"
     ]
    }
   ],
   "source": [
    "vec = DictVectorizer()\n",
    "X = vec.fit_transform(features).toarray()\n",
    "print(X)\n",
    "print(vec.get_feature_names())"
   ]
  },
  {
   "cell_type": "code",
   "execution_count": 20,
   "metadata": {},
   "outputs": [
    {
     "name": "stdout",
     "output_type": "stream",
     "text": [
      "[[0]\n",
      " [0]\n",
      " [1]\n",
      " [1]\n",
      " [1]\n",
      " [0]\n",
      " [1]\n",
      " [0]\n",
      " [1]\n",
      " [1]\n",
      " [1]\n",
      " [1]\n",
      " [1]]\n"
     ]
    }
   ],
   "source": [
    "lb = preprocessing.LabelBinarizer()\n",
    "y = lb.fit_transform(labels)\n",
    "print(y)"
   ]
  },
  {
   "cell_type": "code",
   "execution_count": 30,
   "metadata": {},
   "outputs": [
    {
     "data": {
      "text/plain": [
       "LabelBinarizer()"
      ]
     },
     "execution_count": 30,
     "metadata": {},
     "output_type": "execute_result"
    }
   ],
   "source": []
  },
  {
   "attachments": {},
   "cell_type": "markdown",
   "metadata": {},
   "source": [
    "## 2. 模型训练与可视化"
   ]
  },
  {
   "cell_type": "code",
   "execution_count": 24,
   "metadata": {},
   "outputs": [],
   "source": [
    "clf = tree.DecisionTreeClassifier(criterion='entropy')\n",
    "clf = clf.fit(X,y)"
   ]
  },
  {
   "cell_type": "code",
   "execution_count": 47,
   "metadata": {},
   "outputs": [
    {
     "data": {
      "image/png": "[encoded data removed]",
      "text/plain": [
       "<Figure size 864x864 with 1 Axes>"
      ]
     },
     "metadata": {
      "needs_background": "light"
     },
     "output_type": "display_data"
    }
   ],
   "source": [
    "feature_names = vec.get_feature_names()\n",
    "class_names = df['Buying'].unique().tolist()\n",
    "\n",
    "plt.figure(figsize=(12,12))\n",
    "tree.plot_tree(clf,\n",
    "    feature_names=feature_names,\n",
    "    class_names=class_names)\n",
    "plt.savefig('DT_vis.png', dpi=100)\n",
    "plt.show()"
   ]
  }
 ],
 "metadata": {
  "kernelspec": {
   "display_name": "base",
   "language": "python",
   "name": "python3"
  },
  "language_info": {
   "codemirror_mode": {
    "name": "ipython",
    "version": 3
   },
   "file_extension": ".py",
   "mimetype": "text/x-python",
   "name": "python",
   "nbconvert_exporter": "python",
   "pygments_lexer": "ipython3",
   "version": "3.8.8"
  },
  "orig_nbformat": 4,
  "vscode": {
   "interpreter": {
    "hash": "40d3a090f54c6569ab1632332b64b2c03c39dcf918b08424e98f38b5ae0af88f"
   }
  }
 },
 "nbformat": 4,
 "nbformat_minor": 2
}
