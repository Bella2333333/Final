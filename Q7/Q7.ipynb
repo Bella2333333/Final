{
 "cells": [
  {
   "attachments": {},
   "cell_type": "markdown",
   "metadata": {},
   "source": [
    "# Hopfield神经网络解决TSP问题\n",
    "22210980051 李韵"
   ]
  },
  {
   "cell_type": "code",
   "execution_count": 1,
   "metadata": {},
   "outputs": [],
   "source": [
    "import numpy as np\n",
    "from matplotlib import pyplot as plt"
   ]
  },
  {
   "cell_type": "code",
   "execution_count": 32,
   "metadata": {},
   "outputs": [],
   "source": [
    "# 第一步: 设置初始值\n",
    "cities = np.array([[1, 5], [2, 4], [1, 1], [4, 7], [5, 6], [4, 3], [6, 5]])\n",
    "N = len(cities)\n",
    "A = N * N\n",
    "D = N / 2\n",
    "U0 = 0.0009\n",
    "step = 0.0001\n",
    "max_num_iter = 10000"
   ]
  },
  {
   "cell_type": "code",
   "execution_count": 33,
   "metadata": {},
   "outputs": [],
   "source": [
    "# 第二步: 计算两城市间的距离dxy\n",
    "def price_cn(vec1, vec2):\n",
    "    return np.linalg.norm(np.array(vec1) - np.array(vec2))\n",
    "\n",
    "def get_distance(cities):\n",
    "    N = len(cities)\n",
    "    distance = np.zeros((N, N))\n",
    "    for i, curr_point in enumerate(cities):\n",
    "        line = []\n",
    "        [line.append(price_cn(curr_point, other_point)) if i != j else line.append(0.0) for j, other_point in enumerate(cities)]\n",
    "        distance[i] = line\n",
    "    return distance"
   ]
  },
  {
   "cell_type": "code",
   "execution_count": 34,
   "metadata": {},
   "outputs": [],
   "source": [
    "distance = get_distance(cities)"
   ]
  },
  {
   "cell_type": "code",
   "execution_count": 35,
   "metadata": {},
   "outputs": [],
   "source": [
    "def calc_du(V, distance):\n",
    "    a = np.sum(V, axis=0) - 1  # 按列相加\n",
    "    b = np.sum(V, axis=1) - 1  # 按行相加\n",
    "    t1 = np.zeros((N, N))\n",
    "    t2 = np.zeros((N, N))\n",
    "    for i in range(N):\n",
    "        for j in range(N):\n",
    "            t1[i, j] = a[j]\n",
    "    for i in range(N):\n",
    "        for j in range(N):\n",
    "            t2[j, i] = b[j]\n",
    "    # 将第一列移动到最后一列\n",
    "    c_1 = V[:, 1:N]\n",
    "    c_0 = np.zeros((N, 1))\n",
    "    c_0[:, 0] = V[:, 0]\n",
    "    c = np.concatenate((c_1, c_0), axis=1)\n",
    "    c = np.dot(distance, c)\n",
    "    return -A * (t1 + t2) - D * c"
   ]
  },
  {
   "cell_type": "code",
   "execution_count": 36,
   "metadata": {},
   "outputs": [],
   "source": [
    "def calc_U(U, du, step):\n",
    "    return U + du * step"
   ]
  },
  {
   "cell_type": "code",
   "execution_count": 37,
   "metadata": {},
   "outputs": [],
   "source": [
    "def calc_V(U, U0):\n",
    "    return 1 / 2 * (1 + np.tanh(U / U0))"
   ]
  },
  {
   "cell_type": "code",
   "execution_count": 118,
   "metadata": {},
   "outputs": [],
   "source": [
    "# 第三步: 初始化输入电压Uxi和输出电压Vxi\n",
    "U = 1 / 2 * U0 * np.log(N - 1) + (2 * (np.random.random((N, N))) - 1)\n",
    "V = calc_V(U, U0)"
   ]
  },
  {
   "cell_type": "code",
   "execution_count": 39,
   "metadata": {},
   "outputs": [],
   "source": [
    "def calc_energy(V, distance):\n",
    "    t1 = np.sum(np.power(np.sum(V, axis=0) - 1, 2))\n",
    "    t2 = np.sum(np.power(np.sum(V, axis=1) - 1, 2))\n",
    "    idx = [i for i in range(1, N)]\n",
    "    idx = idx + [0]\n",
    "    Vt = V[:, idx]\n",
    "    t3 = distance * Vt\n",
    "    t3 = np.sum(np.sum(np.multiply(V, t3)))\n",
    "    e = 0.5 * (A * (t1 + t2) + D * t3)\n",
    "    return e\n"
   ]
  },
  {
   "cell_type": "code",
   "execution_count": 40,
   "metadata": {},
   "outputs": [],
   "source": [
    "def check_path(V):\n",
    "    newV = np.zeros([N, N])\n",
    "    route = []\n",
    "    for i in range(N):\n",
    "        mm = np.max(V[:, i])\n",
    "        for j in range(N):\n",
    "            if V[j, i] == mm:\n",
    "                newV[j, i] = 1\n",
    "                route += [j]\n",
    "                break\n",
    "    return route, newV"
   ]
  },
  {
   "cell_type": "code",
   "execution_count": 41,
   "metadata": {},
   "outputs": [],
   "source": [
    "def calc_distance(path):\n",
    "    dis = 0.0\n",
    "    for i in range(len(path) - 1):\n",
    "        dis += distance[path[i]][path[i+1]]\n",
    "    return dis"
   ]
  },
  {
   "cell_type": "code",
   "execution_count": 119,
   "metadata": {},
   "outputs": [],
   "source": [
    "# 能量、距离、路线初始化\n",
    "energies = np.array([0.0 for x in range(max_num_iter)])\n",
    "best_distance = np.inf\n",
    "best_route = []\n",
    "H_path = []\n",
    "best_iter = 0"
   ]
  },
  {
   "cell_type": "code",
   "execution_count": 120,
   "metadata": {},
   "outputs": [
    {
     "name": "stdout",
     "output_type": "stream",
     "text": [
      "第76次迭代得到的次优解距离为：22.9016，能量为：49.5902，路径为：\n",
      "d,e,c,f,b,a,g,d\n",
      "第1175次迭代得到的次优解距离为：17.4444，能量为：125.8845，路径为：\n",
      "f,c,b,a,d,e,g,f\n",
      "第2177次迭代得到的次优解距离为：17.4444，能量为：35.9533，路径为：\n",
      "c,b,a,d,e,g,f,c\n"
     ]
    }
   ],
   "source": [
    "# 迭代训练网络\n",
    "for n in range(max_num_iter):\n",
    "    # 第四步: 根据动力微分方程计算dUxi/dt\n",
    "    du = calc_du(V, distance)\n",
    "    # 第五步: 采用一阶欧拉法计算Uxi(t+1)\n",
    "    U = calc_U(U, du, step)\n",
    "    # 第六步: 使用sigmoid函数计算Vxi(t+1)\n",
    "    V = calc_V(U, U0)\n",
    "    # 第七步: 计算能量函数E\n",
    "    energies[n] = calc_energy(V, distance)\n",
    "    # 第八步: 检查路径的合法性\n",
    "    route, newV = check_path(V)\n",
    "    if len(np.unique(route)) == N:\n",
    "        route.append(route[0])\n",
    "        dis = calc_distance(route)\n",
    "        if dis < best_distance:\n",
    "            H_path = []\n",
    "            best_distance = dis\n",
    "            best_route = route\n",
    "            [H_path.append((route[i], route[i + 1])) for i in range(len(route) - 1)]\n",
    "            best_iter = n\n",
    "            print('第{}次迭代得到的次优解距离为：{}，能量为：{}，路径为：'.format(best_iter, round(best_distance,4), round(energies[best_iter],4)))\n",
    "            [print(chr(97 + v), end=',' if i < len(best_route) - 1 else '\\n') for i, v in enumerate(best_route)] "
   ]
  },
  {
   "cell_type": "code",
   "execution_count": 144,
   "metadata": {},
   "outputs": [],
   "source": [
    "def draw_H_and_E(cities, H_path, energies):\n",
    "    fig = plt.figure(figsize=(12,6))\n",
    "    # 绘制哈密顿回路\n",
    "    ax1 = fig.add_subplot(121)\n",
    "    ax1.title.set_text('Optimal solution')\n",
    "    plt.xlim(0, 7)\n",
    "    plt.ylim(0, 7)\n",
    "    for (from_, to_) in H_path:\n",
    "        p1 = plt.Circle(cities[from_], 0.1, color='blue')\n",
    "        p2 = plt.Circle(cities[to_], 0.1, color='blue')\n",
    "        ax1.add_patch(p1)\n",
    "        ax1.add_patch(p2)\n",
    "        ax1.plot((cities[from_][0], cities[to_][0]), (cities[from_][1], cities[to_][1]), color='green')\n",
    "        ax1.annotate(text=chr(97 + to_), xy=cities[to_], xytext=(-6, 12), textcoords='offset points', fontsize=20)\n",
    "    ax1.axis('equal')\n",
    "    ax1.grid()\n",
    "    # 绘制能量趋势图\n",
    "    ax2 = fig.add_subplot(122)\n",
    "    ax2.title.set_text('Energy')\n",
    "    ax2.plot(np.arange(0, len(energies), 1), energies, color='steelblue')\n",
    "    plt.show()"
   ]
  },
  {
   "cell_type": "code",
   "execution_count": 145,
   "metadata": {},
   "outputs": [
    {
     "name": "stdout",
     "output_type": "stream",
     "text": [
      "最优解由第2177次迭代得到，距离为：17.4444，能量为：35.9533，路径为：\n",
      "c,b,a,d,e,g,f,c\n"
     ]
    },
    {
     "data": {
      "image/png": "[encoded data removed]",
      "text/plain": [
       "<Figure size 864x432 with 2 Axes>"
      ]
     },
     "metadata": {
      "needs_background": "light"
     },
     "output_type": "display_data"
    }
   ],
   "source": [
    "if len(H_path) > 0:\n",
    "    print('最优解由第{}次迭代得到，距离为：{}，能量为：{}，路径为：'.format(best_iter, round(best_distance,4), round(energies[best_iter],4)))\n",
    "    [print(chr(97 + v), end=',' if i < len(best_route) - 1 else '\\n') for i, v in enumerate(best_route)] \n",
    "    draw_H_and_E(cities, H_path, energies)\n",
    "else:\n",
    "    print('没有找到最优解') "
   ]
  },
  {
   "cell_type": "code",
   "execution_count": null,
   "metadata": {},
   "outputs": [],
   "source": []
  }
 ],
 "metadata": {
  "kernelspec": {
   "display_name": "base",
   "language": "python",
   "name": "python3"
  },
  "language_info": {
   "codemirror_mode": {
    "name": "ipython",
    "version": 3
   },
   "file_extension": ".py",
   "mimetype": "text/x-python",
   "name": "python",
   "nbconvert_exporter": "python",
   "pygments_lexer": "ipython3",
   "version": "3.8.8"
  },
  "orig_nbformat": 4,
  "vscode": {
   "interpreter": {
    "hash": "40d3a090f54c6569ab1632332b64b2c03c39dcf918b08424e98f38b5ae0af88f"
   }
  }
 },
 "nbformat": 4,
 "nbformat_minor": 2
}
